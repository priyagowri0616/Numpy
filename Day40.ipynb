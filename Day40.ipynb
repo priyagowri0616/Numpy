{
 "cells": [
  {
   "cell_type": "code",
   "execution_count": 1,
   "id": "c5bbe05f",
   "metadata": {},
   "outputs": [
    {
     "name": "stdout",
     "output_type": "stream",
     "text": [
      "1D Array:\n",
      " [74 29 19 72  5 92 80 53 45 84 35  1]\n",
      "\n",
      "2D Array (4x3):\n",
      " [[74 29 19]\n",
      " [72  5 92]\n",
      " [80 53 45]\n",
      " [84 35  1]]\n",
      "\n",
      "Second Row:\n",
      " [72  5 92]\n",
      "\n",
      "First Column:\n",
      " [74 72 80 84]\n",
      "\n",
      "Last two elements from the last row:\n",
      " [35  1]\n",
      "\n",
      "Array Shape: (4, 3)\n",
      "Array Size: 12\n",
      "Array Data Type: int32\n"
     ]
    }
   ],
   "source": [
    "import numpy as np\n",
    "\n",
    "# Step 2: Create a 1D NumPy array with 12 random numbers between 1 and 100\n",
    "arr_1d = np.random.randint(1, 101, 12)\n",
    "print(\"1D Array:\\n\", arr_1d)\n",
    "\n",
    "# Step 3: Reshape into 2D array (4x3 matrix)\n",
    "arr_2d = arr_1d.reshape(4, 3)\n",
    "print(\"\\n2D Array (4x3):\\n\", arr_2d)\n",
    "\n",
    "# Step 4a: Extract the second row\n",
    "second_row = arr_2d[1]\n",
    "print(\"\\nSecond Row:\\n\", second_row)\n",
    "\n",
    "# Step 4b: Extract the first column\n",
    "first_col = arr_2d[:, 0]\n",
    "print(\"\\nFirst Column:\\n\", first_col)\n",
    "\n",
    "# Step 4c: Extract the last two elements from the last row\n",
    "last_two = arr_2d[-1, -2:]\n",
    "print(\"\\nLast two elements from the last row:\\n\", last_two)\n",
    "\n",
    "# Step 5: Print shape, size, and data type\n",
    "print(\"\\nArray Shape:\", arr_2d.shape)\n",
    "print(\"Array Size:\", arr_2d.size)\n",
    "print(\"Array Data Type:\", arr_2d.dtype)"
   ]
  }
 ],
 "metadata": {
  "kernelspec": {
   "display_name": "Python 3",
   "language": "python",
   "name": "python3"
  },
  "language_info": {
   "codemirror_mode": {
    "name": "ipython",
    "version": 3
   },
   "file_extension": ".py",
   "mimetype": "text/x-python",
   "name": "python",
   "nbconvert_exporter": "python",
   "pygments_lexer": "ipython3",
   "version": "3.13.5"
  }
 },
 "nbformat": 4,
 "nbformat_minor": 5
}
